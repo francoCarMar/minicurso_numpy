{
 "cells": [
  {
   "cell_type": "code",
   "execution_count": null,
   "id": "101d21f9",
   "metadata": {},
   "outputs": [],
   "source": [
    "import tensorflow as tf\n",
    "print('tensorflow: %s' % tf.__version__)\n"
   ]
  }
 ],
 "metadata": {
  "language_info": {
   "name": "python"
  }
 },
 "nbformat": 4,
 "nbformat_minor": 5
}
