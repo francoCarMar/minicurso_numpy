{
 "cells": [
  {
   "cell_type": "code",
   "execution_count": null,
   "id": "1af709fd",
   "metadata": {},
   "outputs": [
    {
     "data": {
      "text/plain": [
       "a    1\n",
       "b    2\n",
       "c    3\n",
       "dtype: int64"
      ]
     },
     "execution_count": 2,
     "metadata": {},
     "output_type": "execute_result"
    }
   ],
   "source": [
    "# Realizar un serie pandas e imprimirla\n",
    "import numpy as np\n",
    "import pandas as pd\n",
    "\n",
    "myarray = np.array([1,2,3])\n",
    "rowname = ['a','b','c']\n",
    "\n",
    "myserie = pd.Series(myarray, index=rowname)\n",
    "myserie"
   ]
  },
  {
   "cell_type": "code",
   "execution_count": 3,
   "id": "1dbccb55",
   "metadata": {},
   "outputs": [
    {
     "name": "stdout",
     "output_type": "stream",
     "text": [
      "posicion 1\n",
      "indice 1\n"
     ]
    },
    {
     "name": "stderr",
     "output_type": "stream",
     "text": [
      "C:\\Users\\franc\\AppData\\Local\\Temp\\ipykernel_48728\\1800858405.py:11: FutureWarning: Series.__getitem__ treating keys as positions is deprecated. In a future version, integer keys will always be treated as labels (consistent with DataFrame behavior). To access a value by position, use `ser.iloc[pos]`\n",
      "  print(f\"posicion {myserie[0]}\")\n"
     ]
    }
   ],
   "source": [
    "# Imprimir por posicion y por indice\n",
    "\n",
    "import numpy as np\n",
    "import pandas as pd\n",
    "\n",
    "myarray = np.array([1,2,3])\n",
    "rowname = ['a','b','c']\n",
    "\n",
    "myserie = pd.Series(myarray, index=rowname)\n",
    "\n",
    "print(f\"posicion {myserie[0]}\")\n",
    "print(f\"indice {myserie['a']}\")"
   ]
  },
  {
   "cell_type": "code",
   "execution_count": 6,
   "id": "531330e6",
   "metadata": {},
   "outputs": [
    {
     "data": {
      "text/html": [
       "<div>\n",
       "<style scoped>\n",
       "    .dataframe tbody tr th:only-of-type {\n",
       "        vertical-align: middle;\n",
       "    }\n",
       "\n",
       "    .dataframe tbody tr th {\n",
       "        vertical-align: top;\n",
       "    }\n",
       "\n",
       "    .dataframe thead th {\n",
       "        text-align: right;\n",
       "    }\n",
       "</style>\n",
       "<table border=\"1\" class=\"dataframe\">\n",
       "  <thead>\n",
       "    <tr style=\"text-align: right;\">\n",
       "      <th></th>\n",
       "      <th>one</th>\n",
       "      <th>two</th>\n",
       "      <th>three</th>\n",
       "    </tr>\n",
       "  </thead>\n",
       "  <tbody>\n",
       "    <tr>\n",
       "      <th>a</th>\n",
       "      <td>1</td>\n",
       "      <td>2</td>\n",
       "      <td>3</td>\n",
       "    </tr>\n",
       "    <tr>\n",
       "      <th>b</th>\n",
       "      <td>4</td>\n",
       "      <td>5</td>\n",
       "      <td>6</td>\n",
       "    </tr>\n",
       "  </tbody>\n",
       "</table>\n",
       "</div>"
      ],
      "text/plain": [
       "   one  two  three\n",
       "a    1    2      3\n",
       "b    4    5      6"
      ]
     },
     "execution_count": 6,
     "metadata": {},
     "output_type": "execute_result"
    }
   ],
   "source": [
    "# Crear un Dataframe e imprimirlo\n",
    "\n",
    "import numpy as np\n",
    "import pandas as pd\n",
    "\n",
    "myarray = np.array([[1,2,3],[4,5,6]])\n",
    "\n",
    "rownames = ['a','b']\n",
    "\n",
    "colnames = ['one','two','three']\n",
    "\n",
    "df_my = pd.DataFrame(myarray, index=rownames, columns=colnames)\n",
    "df_my\n",
    "\n",
    "\n"
   ]
  },
  {
   "cell_type": "code",
   "execution_count": 8,
   "id": "a0893b20",
   "metadata": {},
   "outputs": [
    {
     "name": "stdout",
     "output_type": "stream",
     "text": [
      "one column: a    1\n",
      "b    4\n",
      "Name: one, dtype: int64\n",
      "\n",
      "2nd metodo: a    3\n",
      "b    6\n",
      "Name: three, dtype: int64\n"
     ]
    }
   ],
   "source": [
    "# Imprimir por le indice\n",
    "print(f\"one column: {df_my['one']}\")\n",
    "print()\n",
    "print(f\"2nd metodo: {df_my.three}\")"
   ]
  }
 ],
 "metadata": {
  "kernelspec": {
   "display_name": "venv (3.12.4)",
   "language": "python",
   "name": "python3"
  },
  "language_info": {
   "codemirror_mode": {
    "name": "ipython",
    "version": 3
   },
   "file_extension": ".py",
   "mimetype": "text/x-python",
   "name": "python",
   "nbconvert_exporter": "python",
   "pygments_lexer": "ipython3",
   "version": "3.12.4"
  }
 },
 "nbformat": 4,
 "nbformat_minor": 5
}
